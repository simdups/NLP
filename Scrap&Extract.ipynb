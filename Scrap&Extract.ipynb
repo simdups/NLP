{
 "cells": [
  {
   "cell_type": "markdown",
   "id": "b2f68dec",
   "metadata": {},
   "source": [
    "# Classification de documents PDF techniques : PC vs Moniteurs"
   ]
  },
  {
   "cell_type": "markdown",
   "id": "448e9426",
   "metadata": {},
   "source": [
    "## 1. Introduction"
   ]
  },
  {
   "cell_type": "markdown",
   "id": "c27a439e",
   "metadata": {},
   "source": [
    "- Objectif : Déterminer automatiquement si un document PDF technique concerne un PC ou un moniteur.\n",
    "\n",
    "- Intérêt : Automatiser un tri documentaire pour gagner du temps dans l’archivage ou la recherche de fichiers."
   ]
  },
  {
   "cell_type": "markdown",
   "id": "0dc8670e",
   "metadata": {},
   "source": [
    "## 2. Librairies"
   ]
  },
  {
   "cell_type": "code",
   "execution_count": 17,
   "id": "27153a14",
   "metadata": {},
   "outputs": [],
   "source": [
    "#!pip install -r requirements.txt"
   ]
  },
  {
   "cell_type": "markdown",
   "id": "e3de893f",
   "metadata": {},
   "source": [
    "## 3. Création de la database"
   ]
  },
  {
   "cell_type": "markdown",
   "id": "930937d4",
   "metadata": {},
   "source": [
    "Un total de 542 fichiers PDF ont été collectés. Il s'agit de fiches PCF (Product Carbon Footprint) portant sur des ordinateurs ou des écrans (moniteurs) de la marque HP. Ces documents ont été récupérés directement depuis le site officiel de HP à l’aide d’une méthode de web scraping, dont le code est présenté ci-dessous. Le processus s’effectue en deux étapes : d’abord, les liens vers les fichiers PDF sont extraits et stockés dans un objet ; ensuite, les fichiers sont téléchargés localement."
   ]
  },
  {
   "cell_type": "markdown",
   "id": "c2739f9a-bcdc-4cbb-ac45-ae7ba7d9b015",
   "metadata": {},
   "source": [
    "### 3.1 Téléchargement des écrans"
   ]
  },
  {
   "cell_type": "markdown",
   "id": "54987bad-2667-48c7-84b3-0904d0cb77bb",
   "metadata": {},
   "source": [
    "monitor : https://h20195.www2.hp.com/v2/library.aspx?doctype=95&footer=95&filter_doctype=no&filter_country=no&cc=us&lc=en&filter_oid=no&filter_prodtype=rw&prodtype=ij&showproductcompatibility=yes&showregion=yes&showreglangcol=yes&showdescription=yes3doctype-95&sortorder-popular&teasers-off&isRetired-false&isRHParentNode-false&titleCheck-false#doctype-95&product_type-mo&sortorder-document_title&teasers-off&isRetired-false&isRHParentNode-false&titleCheck-false"
   ]
  },
  {
   "cell_type": "code",
   "execution_count": 4,
   "id": "031b6494-2b52-4efa-b9e8-fff57e55f415",
   "metadata": {},
   "outputs": [
    {
     "name": "stdout",
     "output_type": "stream",
     "text": [
      "Cookies acceptés.\n",
      "→ Clicked 'Load More'\n",
      "→ Clicked 'Load More'\n",
      "✓ Plus de bouton 'Load More' détecté.\n",
      "280 PDF trouvés :\n",
      "https://h20195.www2.hp.com/v2/GetDocument.aspx?docname=c08699464\n",
      "https://h20195.www2.hp.com/v2/GetDocument.aspx?docname=c08361997\n",
      "https://h20195.www2.hp.com/v2/GetDocument.aspx?docname=c09125938\n",
      "https://h20195.www2.hp.com/v2/GetDocument.aspx?docname=c08881237\n",
      "https://h20195.www2.hp.com/v2/GetDocument.aspx?docname=c08881231\n"
     ]
    }
   ],
   "source": [
    "from bs4 import BeautifulSoup\n",
    "from urllib.parse import urljoin\n",
    "from selenium import webdriver\n",
    "from selenium.webdriver.common.by import By\n",
    "from selenium.webdriver.support.ui import WebDriverWait\n",
    "from selenium.webdriver.support import expected_conditions as EC\n",
    "import time\n",
    "\n",
    "# Initialiser le navigateur\n",
    "driver = webdriver.Chrome()\n",
    "wait = WebDriverWait(driver, 10)\n",
    "\n",
    "hp_root_url = \"https://h20195.www2.hp.com/v2/library.aspx?doctype=95&footer=95&filter_doctype=no&filter_country=no&cc=us&lc=en&filter_oid=no&filter_prodtype=rw&prodtype=ij&showproductcompatibility=yes&showregion=yes&showreglangcol=yes&showdescription=yes3doctype-95&sortorder-popular&teasers-off&isRetired-false&isRHParentNode-false&titleCheck-false#doctype-95&product_type-mo&sortorder-document_title&teasers-off&isRetired-false&isRHParentNode-false&titleCheck-false\"\n",
    "driver.get(hp_root_url)\n",
    "\n",
    "# Accepter les cookies\n",
    "try:\n",
    "    cookie_button = wait.until(EC.element_to_be_clickable((By.XPATH, '//button[contains(text(), \"Accept\")]')))\n",
    "    cookie_button.click()\n",
    "    print(\"Cookies acceptés.\")\n",
    "except:\n",
    "    print(\"Pas de cookies à accepter.\")\n",
    "\n",
    "# Cliquer sur \"Load More\" tant qu'il existe\n",
    "while True:\n",
    "    try:\n",
    "        load_more_btn = wait.until(EC.element_to_be_clickable((By.ID, \"loadMore\")))\n",
    "        driver.execute_script(\"arguments[0].click();\", load_more_btn)\n",
    "        print(\"→ Clicked 'Load More'\")\n",
    "        time.sleep(2)  # petite pause pour chargement\n",
    "    except:\n",
    "        print(\"✓ Plus de bouton 'Load More' détecté.\")\n",
    "        break\n",
    "\n",
    "# Attendre que tout soit chargé\n",
    "time.sleep(5)\n",
    "\n",
    "# Extraire le HTML final\n",
    "soup = BeautifulSoup(driver.page_source, 'html.parser')\n",
    "\n",
    "# Récupérer tous les liens PDF via l'attribut \"pdfurl\"\n",
    "pdf_links = []\n",
    "for link in soup.find_all('a'):\n",
    "    pdfurl = link.get('pdfurl')\n",
    "    if pdfurl:\n",
    "        full_url = urljoin(hp_root_url, pdfurl)\n",
    "        pdf_links.append(full_url)\n",
    "\n",
    "# Afficher les liens\n",
    "print(f\"{len(pdf_links)} PDF trouvés :\")\n",
    "for url in pdf_links[:5]:\n",
    "    print(url)\n",
    "\n",
    "# Fermer le navigateur\n",
    "driver.quit()"
   ]
  },
  {
   "cell_type": "code",
   "execution_count": null,
   "id": "3c3764fd-d48e-4465-9a7c-3faac074e226",
   "metadata": {},
   "outputs": [],
   "source": [
    "import os\n",
    "import requests\n",
    "\n",
    "# Chemin local Windows vers ton dossier\n",
    "save_dir = r\"C:\\Users\\simdu\\OneDrive\\Documents\\M2\\S2\\NLP_HAMZA\\project\\data\\monitors\"\n",
    "\n",
    "# Créer le dossier s'il n'existe pas\n",
    "os.makedirs(save_dir, exist_ok=True)\n",
    "\n",
    "# Télécharger tous les PDF\n",
    "for i, url in enumerate(pdf_links, start=1):\n",
    "    try:\n",
    "        response = requests.get(url)\n",
    "        response.raise_for_status()\n",
    "        # Essayer d'extraire un nom de fichier depuis l'URL\n",
    "        filename = url.split('/')[-1]\n",
    "        if not filename.endswith(\".pdf\"):\n",
    "            filename = f\"hp_doc_{i}.pdf\"\n",
    "        filepath = os.path.join(save_dir, filename)\n",
    "        with open(filepath, 'wb') as f:\n",
    "            f.write(response.content)\n",
    "        print(f\"✅ Téléchargé : {filepath}\")\n",
    "    except Exception as e:\n",
    "        print(f\"❌ Échec pour {url} : {e}\")\n"
   ]
  },
  {
   "cell_type": "markdown",
   "id": "8ee61f12-9a78-4b2f-8850-78c368591c15",
   "metadata": {},
   "source": [
    "### 3.1 Téléchargement des PC"
   ]
  },
  {
   "cell_type": "markdown",
   "id": "f9b41677-a1e3-41c6-8ed3-87ce7e6993f1",
   "metadata": {},
   "source": [
    "pc : https://h20195.www2.hp.com/v2/library.aspx?doctype=95&footer=95&filter_doctype=no&filter_country=no&cc=us&lc=en&filter_oid=no&filter_prodtype=rw&prodtype=ij&showproductcompatibility=yes&showregion=yes&showreglangcol=yes&showdescription=yes3doctype-95&sortorder-popular&teasers-off&isRetired-false&isRHParentNode-false&titleCheck-false#doctype-95&product_type-pc&sortorder-document_title&teasers-off&isRetired-false&isRHParentNode-false&titleCheck-false"
   ]
  },
  {
   "cell_type": "code",
   "execution_count": 7,
   "id": "39975e01",
   "metadata": {},
   "outputs": [
    {
     "name": "stdout",
     "output_type": "stream",
     "text": [
      "Cookies acceptés.\n",
      "→ Clicked 'Load More'\n",
      "→ Clicked 'Load More'\n",
      "✓ Plus de bouton 'Load More' détecté.\n",
      "262 PDF trouvés :\n",
      "https://h20195.www2.hp.com/v2/GetDocument.aspx?docname=c07524666\n",
      "https://h20195.www2.hp.com/v2/GetDocument.aspx?docname=c07524664\n",
      "https://h20195.www2.hp.com/v2/GetDocument.aspx?docname=c07524680\n",
      "https://h20195.www2.hp.com/v2/GetDocument.aspx?docname=c07524714\n",
      "https://h20195.www2.hp.com/v2/GetDocument.aspx?docname=c07524681\n"
     ]
    }
   ],
   "source": [
    "from bs4 import BeautifulSoup\n",
    "from urllib.parse import urljoin\n",
    "from selenium import webdriver\n",
    "from selenium.webdriver.common.by import By\n",
    "from selenium.webdriver.support.ui import WebDriverWait\n",
    "from selenium.webdriver.support import expected_conditions as EC\n",
    "import time\n",
    "\n",
    "# Initialiser le navigateur\n",
    "driver = webdriver.Chrome()\n",
    "wait = WebDriverWait(driver, 10)\n",
    "\n",
    "hp_pc_root_url = \"https://h20195.www2.hp.com/v2/library.aspx?doctype=95&footer=95&filter_doctype=no&filter_country=no&cc=us&lc=en&filter_oid=no&filter_prodtype=rw&prodtype=ij&showproductcompatibility=yes&showregion=yes&showreglangcol=yes&showdescription=yes3doctype-95&sortorder-popular&teasers-off&isRetired-false&isRHParentNode-false&titleCheck-false#doctype-95&product_type-pc&sortorder-document_title&teasers-off&isRetired-false&isRHParentNode-false&titleCheck-false\"\n",
    "driver.get(hp_pc_root_url)\n",
    "\n",
    "# Accepter les cookies\n",
    "try:\n",
    "    cookie_button = wait.until(EC.element_to_be_clickable((By.XPATH, '//button[contains(text(), \"Accept\")]')))\n",
    "    cookie_button.click()\n",
    "    print(\"Cookies acceptés.\")\n",
    "except:\n",
    "    print(\"Pas de cookies à accepter.\")\n",
    "\n",
    "# Cliquer sur \"Load More\" tant qu'il existe\n",
    "while True:\n",
    "    try:\n",
    "        load_more_btn = wait.until(EC.element_to_be_clickable((By.ID, \"loadMore\")))\n",
    "        driver.execute_script(\"arguments[0].click();\", load_more_btn)\n",
    "        print(\"→ Clicked 'Load More'\")\n",
    "        time.sleep(2)  # petite pause pour chargement\n",
    "    except:\n",
    "        print(\"✓ Plus de bouton 'Load More' détecté.\")\n",
    "        break\n",
    "\n",
    "# Attendre que tout soit chargé\n",
    "time.sleep(5)\n",
    "\n",
    "# Extraire le HTML final\n",
    "soup = BeautifulSoup(driver.page_source, 'html.parser')\n",
    "\n",
    "# Récupérer tous les liens PDF via l'attribut \"pdfurl\"\n",
    "pdf_links = []\n",
    "for link in soup.find_all('a'):\n",
    "    pdfurl = link.get('pdfurl')\n",
    "    if pdfurl:\n",
    "        full_url = urljoin(hp_root_url, pdfurl)\n",
    "        pdf_links.append(full_url)\n",
    "\n",
    "# Afficher les liens\n",
    "print(f\"{len(pdf_links)} PDF trouvés :\")\n",
    "for url in pdf_links[:5]:\n",
    "    print(url)\n",
    "\n",
    "# Fermer le navigateur\n",
    "driver.quit()"
   ]
  },
  {
   "cell_type": "code",
   "execution_count": null,
   "id": "f5330d9c-7a05-4900-9f43-46f3839f0797",
   "metadata": {},
   "outputs": [],
   "source": [
    "import os\n",
    "import requests\n",
    "\n",
    "# Chemin local Windows vers ton dossier\n",
    "save_dir = r\"C:\\Users\\simdu\\OneDrive\\Documents\\M2\\S2\\NLP_HAMZA\\project\\data\\pc\"\n",
    "\n",
    "# Créer le dossier s'il n'existe pas\n",
    "os.makedirs(save_dir, exist_ok=True)\n",
    "\n",
    "# Numéro de départ pour les fichiers\n",
    "start_index = 281\n",
    "\n",
    "# Télécharger tous les PDF\n",
    "for i, url in enumerate(pdf_links, start=start_index):\n",
    "    try:\n",
    "        response = requests.get(url)\n",
    "        response.raise_for_status()\n",
    "        filename = f\"hp_doc_{i}.pdf\"\n",
    "        filepath = os.path.join(save_dir, filename)\n",
    "        with open(filepath, 'wb') as f:\n",
    "            f.write(response.content)\n",
    "        print(f\"✅ Téléchargé : {filepath}\")\n",
    "    except Exception as e:\n",
    "        print(f\"❌ Échec pour {url} : {e}\")"
   ]
  },
  {
   "cell_type": "markdown",
   "id": "ea594fd0-7862-4500-bcca-dd40b7a901ee",
   "metadata": {},
   "source": [
    "### 3.3 Extraction du texte et création de la database"
   ]
  },
  {
   "cell_type": "code",
   "execution_count": 18,
   "id": "7a001a04-550a-44d4-b833-a2141ff29478",
   "metadata": {},
   "outputs": [
    {
     "name": "stderr",
     "output_type": "stream",
     "text": [
      "Traitement des fichiers pc: 100%|██████████| 262/262 [01:02<00:00,  4.19it/s]\n",
      "Traitement des fichiers monitors:  33%|███▎      | 93/280 [00:37<09:36,  3.08s/it]"
     ]
    },
    {
     "name": "stdout",
     "output_type": "stream",
     "text": [
      "Erreur avec C:\\Users\\simdu\\OneDrive\\Documents\\M2\\S2\\NLP_HAMZA\\project\\data\\monitors\\hp_doc_183.pdf : Cannot read an empty file\n"
     ]
    },
    {
     "name": "stderr",
     "output_type": "stream",
     "text": [
      "Traitement des fichiers monitors: 100%|██████████| 280/280 [01:44<00:00,  2.69it/s]"
     ]
    },
    {
     "name": "stdout",
     "output_type": "stream",
     "text": [
      "✅ Extraction terminée et CSV enregistré.\n"
     ]
    },
    {
     "name": "stderr",
     "output_type": "stream",
     "text": [
      "\n"
     ]
    }
   ],
   "source": [
    "import os\n",
    "import PyPDF2\n",
    "import pandas as pd\n",
    "from tqdm import tqdm\n",
    "\n",
    "def extract_text_from_pdf(pdf_path):\n",
    "    try:\n",
    "        with open(pdf_path, 'rb') as file:\n",
    "            reader = PyPDF2.PdfReader(file)\n",
    "            text = \"\"\n",
    "            for page in reader.pages:\n",
    "                text += page.extract_text()  # Extraire le texte de chaque page\n",
    "        return text\n",
    "    except Exception as e:\n",
    "        print(f\"Erreur avec {pdf_path} : {e}\")\n",
    "        return \"\"\n",
    "\n",
    "# Répertoires\n",
    "base_dir = r\"C:\\Users\\simdu\\OneDrive\\Documents\\M2\\S2\\NLP_HAMZA\\project\\data\"\n",
    "folders = [\"pc\", \"monitors\"]\n",
    "\n",
    "data = []\n",
    "\n",
    "for label in folders:\n",
    "    folder_path = os.path.join(base_dir, label)\n",
    "    for filename in tqdm(os.listdir(folder_path), desc=f\"Traitement des fichiers {label}\"):\n",
    "        if filename.endswith(\".pdf\"):\n",
    "            file_path = os.path.join(folder_path, filename)\n",
    "            text = extract_text_from_pdf(file_path)\n",
    "            data.append({\n",
    "                \"filename\": filename,\n",
    "                \"text\": text,\n",
    "                \"label\": label\n",
    "            })\n",
    "\n",
    "# Convertir en DataFrame\n",
    "df = pd.DataFrame(data)\n",
    "\n",
    "# Sauvegarder en CSV pour usage futur\n",
    "df.to_csv(\"pdf_texts.csv\", index=False)\n",
    "print(\"✅ Extraction terminée et CSV enregistré.\")\n",
    "\n"
   ]
  },
  {
   "cell_type": "markdown",
   "id": "6a0f6664-606f-4ae3-870a-ebef6a43f339",
   "metadata": {},
   "source": [
    "### 3.4 Traitement de la database"
   ]
  },
  {
   "cell_type": "code",
   "execution_count": 32,
   "id": "393263bf-c014-4262-9d9c-a03787e2a51c",
   "metadata": {},
   "outputs": [
    {
     "name": "stdout",
     "output_type": "stream",
     "text": [
      "         filename                                               text label\n",
      "0  hp_doc_281.pdf  Product Carbon Footprint Report\\n23-Aug-2023\\n...    pc\n",
      "1  hp_doc_282.pdf   \\n Product carbon footprint  \\nHP 200 Pro G4 ...    pc\n",
      "2  hp_doc_283.pdf   \\n Product carbon footprint  \\nHP 20 5 G4 22 ...    pc\n",
      "3  hp_doc_284.pdf   \\n Product carbon footprint  \\nHP 205 G4 24 A...    pc\n",
      "4  hp_doc_285.pdf   \\n Product carbon footprint  \\nHP 20 5 Pro G4...    pc\n"
     ]
    }
   ],
   "source": [
    "import pandas as pd\n",
    "\n",
    "df = pd.read_csv(\"pdf_texts.csv\")\n",
    "print(df.head())"
   ]
  },
  {
   "cell_type": "code",
   "execution_count": 33,
   "id": "469b52d6-23a6-493a-a643-b6f5bb70d5ab",
   "metadata": {},
   "outputs": [
    {
     "name": "stdout",
     "output_type": "stream",
     "text": [
      "<class 'pandas.core.frame.DataFrame'>\n",
      "RangeIndex: 542 entries, 0 to 541\n",
      "Data columns (total 3 columns):\n",
      " #   Column    Non-Null Count  Dtype \n",
      "---  ------    --------------  ----- \n",
      " 0   filename  542 non-null    object\n",
      " 1   text      530 non-null    object\n",
      " 2   label     542 non-null    object\n",
      "dtypes: object(3)\n",
      "memory usage: 12.8+ KB\n"
     ]
    }
   ],
   "source": [
    "df.info()"
   ]
  },
  {
   "cell_type": "markdown",
   "id": "287fdf83-0f5e-44b3-9aa0-fcbab7d5ca8b",
   "metadata": {},
   "source": [
    "On voit qu'il y a 542-530 = 12 fichiers dont le texte n'a pas pu être extrait. Choix de suppression."
   ]
  },
  {
   "cell_type": "code",
   "execution_count": 35,
   "id": "6e8742e2-d26f-4573-bc68-8a05256748e3",
   "metadata": {},
   "outputs": [
    {
     "name": "stdout",
     "output_type": "stream",
     "text": [
      "(530, 3)\n",
      "✅ Fichiers sans texte supprimés et CSV nettoyé sauvegardé.\n"
     ]
    }
   ],
   "source": [
    "# Supprimer directement les fichiers sans texte extrait dans df\n",
    "df_clean = df.dropna(subset=['text'])\n",
    "\n",
    "# Vérifier la nouvelle taille du DataFrame\n",
    "print(df_clean.shape)\n",
    "\n",
    "# Sauvegarder le DataFrame nettoyé en CSV\n",
    "df_clean.to_csv(\"pdf_texts_cleaned.csv\", index=False)\n",
    "print(\"✅ Fichiers sans texte supprimés et CSV nettoyé sauvegardé.\")\n",
    "\n"
   ]
  },
  {
   "cell_type": "code",
   "execution_count": 36,
   "id": "14602269-037e-41cd-9e3a-2458478d125f",
   "metadata": {},
   "outputs": [
    {
     "name": "stdout",
     "output_type": "stream",
     "text": [
      "<class 'pandas.core.frame.DataFrame'>\n",
      "Index: 530 entries, 0 to 541\n",
      "Data columns (total 3 columns):\n",
      " #   Column    Non-Null Count  Dtype \n",
      "---  ------    --------------  ----- \n",
      " 0   filename  530 non-null    object\n",
      " 1   text      530 non-null    object\n",
      " 2   label     530 non-null    object\n",
      "dtypes: object(3)\n",
      "memory usage: 16.6+ KB\n"
     ]
    }
   ],
   "source": [
    "df_clean.info()"
   ]
  },
  {
   "cell_type": "code",
   "execution_count": 37,
   "id": "3ebb7ffa-c4d3-4dd5-ae03-652d26b7bb5a",
   "metadata": {},
   "outputs": [
    {
     "data": {
      "text/plain": [
       "label\n",
       "monitors    269\n",
       "pc          261\n",
       "Name: count, dtype: int64"
      ]
     },
     "execution_count": 37,
     "metadata": {},
     "output_type": "execute_result"
    }
   ],
   "source": [
    "df_clean['label'].value_counts()"
   ]
  }
 ],
 "metadata": {
  "kernelspec": {
   "display_name": "Python 3 (ipykernel)",
   "language": "python",
   "name": "python3"
  },
  "language_info": {
   "codemirror_mode": {
    "name": "ipython",
    "version": 3
   },
   "file_extension": ".py",
   "mimetype": "text/x-python",
   "name": "python",
   "nbconvert_exporter": "python",
   "pygments_lexer": "ipython3",
   "version": "3.11.11"
  }
 },
 "nbformat": 4,
 "nbformat_minor": 5
}
